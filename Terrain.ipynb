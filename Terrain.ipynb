{
 "cells": [
  {
   "cell_type": "markdown",
   "metadata": {},
   "source": [
    "**The concept here is to create an algorithm that simulates the natural erosion of terrain.**\n",
    "\n",
    "First we import some modules."
   ]
  },
  {
   "cell_type": "code",
   "execution_count": null,
   "metadata": {},
   "outputs": [],
   "source": [
    "import numpy as np\n",
    "import matplotlib.pyplot as plt\n",
    "from tqdm import tqdm"
   ]
  },
  {
   "cell_type": "markdown",
   "metadata": {},
   "source": [
    "The first stage here is to produce some form of smoothing algorithm. This will simulate air smoothing in the absence of any other smoothing effect. It can also be used to simulate glaciation.\n",
    "\n",
    "This requires two functions. The deposition function looks at the gradient between a given pixel and the surroundings. If the pixel is above the surrounding pixels, this is negative (erosion rather than deposition). Vice versa if the cell is below the surroundings (deposition)."
   ]
  },
  {
   "cell_type": "code",
   "execution_count": null,
   "metadata": {},
   "outputs": [],
   "source": [
    "def depo_func(J):\n",
    "    ##takes an array of terrain heights and returns the deposition rate\n",
    "    \n",
    "    ##Initialise arrays and lists\n",
    "    J=np.array(J)\n",
    "    X0=[]\n",
    "    x1=[]\n",
    "    \n",
    "    #Parse through dataset\n",
    "    for i in range(len(J)):\n",
    "        for j in range(len(J[0])):\n",
    "            \n",
    "            #initialise array x; these are the heights of pixels surrounding a given pixel in an array.\n",
    "            x=[]\n",
    "            \n",
    "            #Now we introduce boundary conditions. If i is on the edge of the area of interest, we will get an error message\n",
    "            #This code makes exceptions to eliminate these errors\n",
    "            \n",
    "            if i==0:\n",
    "                x.append(0)\n",
    "                if j==0:\n",
    "                    x.append(0)\n",
    "                    x.append(J[1,0])\n",
    "                    x.append(J[0,1])\n",
    "                elif j==len(J[0])-1:\n",
    "                    x.append(0)\n",
    "                    x.append(J[0,j-1])\n",
    "                    x.append(J[1,j])\n",
    "                else:\n",
    "                    x.append(J[0,j-1])\n",
    "                    x.append(J[0,j+1])\n",
    "                    x.append(J[1,j])\n",
    "            elif i==len(J)-1:\n",
    "                x.append(0)\n",
    "                if j==0:\n",
    "                    x.append(0)\n",
    "                    x.append(J[i-1,0])\n",
    "                    x.append(J[i,1])\n",
    "                elif j==len(J[0])-1:\n",
    "                    x.append(0)\n",
    "                    x.append(J[i,j-1])\n",
    "                    x.append(J[i-1,j])\n",
    "                else:\n",
    "                    x.append(J[i,j-1])\n",
    "                    x.append(J[i,j+1])\n",
    "                    x.append(J[i-1,j])\n",
    "            elif j==0:\n",
    "                x.append(0)\n",
    "                x.append(J[i-1,0])\n",
    "                x.append(J[i+1,0])\n",
    "                x.append(J[i,1])\n",
    "            elif j==len(J[0])-1:\n",
    "                x.append(0)\n",
    "                x.append(J[i-1,j])\n",
    "                x.append(J[i+1,j])\n",
    "                x.append(J[i,j-1])\n",
    "            ###This is the code for the majority of pixels now that we know that pixel is not on the edge of the area\n",
    "            else:\n",
    "                x.append(J[i,j+1])\n",
    "                x.append(J[i+1,j])\n",
    "                x.append(J[i,j-1])\n",
    "                x.append(J[i-1,j])\n",
    "            \n",
    "            #Find the mean difference between this pixel and the average of surrounding pixels. Is it positive or negative?\n",
    "            X=np.mean(x)\n",
    "            X= X-J[i,j]\n",
    "            \n",
    "            ##append this to the arrays to produce a 2D array of deposition value for each pixel.\n",
    "            X0.append(X)\n",
    "        x1.append(X0)\n",
    "        X0=[]\n",
    "    \n",
    "    ##return the 2D array.\n",
    "    return(x1)"
   ]
  },
  {
   "cell_type": "code",
   "execution_count": null,
   "metadata": {},
   "outputs": [],
   "source": [
    "def erosion_func(J,erosion_rate):\n",
    "    ##takes an array of terrain heights and returns the eroded landscape by using the deposition function\n",
    "    ##the erosion rate changes how powerful the erosion is and must be tuned\n",
    "    \n",
    "    #call depo function\n",
    "    x1=depo_func(J)\n",
    "    x1=np.array(x1)\n",
    "    J=np.array(J)\n",
    "    \n",
    "    #initialise lists to produce output 2D array\n",
    "    o=[]\n",
    "    O=[]\n",
    "    \n",
    "    ##parse through the terrain and calculate the height at the next timestep\n",
    "    for i in range(len(J)):\n",
    "        for j in range(len(J[0])):\n",
    "            o.append(J[i,j]+x1[i,j]*erosion_rate)#erosion rate multiplies the rate of erosion/deposition\n",
    "        O.append(o)\n",
    "        o=[]\n",
    "    return(O)"
   ]
  },
  {
   "cell_type": "markdown",
   "metadata": {},
   "source": [
    "Now, we can see how well our smoothing function does when faced with a given seed for erosion to start. The next cell produces a random 100x100 seed."
   ]
  },
  {
   "cell_type": "code",
   "execution_count": null,
   "metadata": {},
   "outputs": [],
   "source": [
    "J=np.random.randint (0,100,(100,100))##all values between 0 and 100 to start.\n",
    "J=np.array(J)\n",
    "plt.imshow(J)\n",
    "plt.show()"
   ]
  },
  {
   "cell_type": "markdown",
   "metadata": {},
   "source": [
    "Now we apply our Deposition function. This picks out the prominent points (making them negative) and antiprominent points (making them positive)."
   ]
  },
  {
   "cell_type": "code",
   "execution_count": null,
   "metadata": {},
   "outputs": [],
   "source": [
    "x1=depo_func(J)\n",
    "plt.imshow(x1)\n",
    "plt.show()"
   ]
  },
  {
   "cell_type": "markdown",
   "metadata": {},
   "source": [
    "We now run our Erosion function to find the next stage. There is not much difference in one time step, so we will run over a for loop next with 100 iterations."
   ]
  },
  {
   "cell_type": "code",
   "execution_count": null,
   "metadata": {},
   "outputs": [],
   "source": [
    "O=erosion_func(J,0.1)\n",
    "plt.imshow(O)\n",
    "plt.show()"
   ]
  },
  {
   "cell_type": "code",
   "execution_count": null,
   "metadata": {},
   "outputs": [],
   "source": [
    "for i in tqdm(range(100)):\n",
    "    O=erosion_func(J,0.1)\n",
    "    J=O\n",
    "plt.imshow(J)\n",
    "plt.show()"
   ]
  },
  {
   "cell_type": "markdown",
   "metadata": {},
   "source": [
    "As you can see, there is now a clear difference from the first seed. We can also portray this on a contour plot:"
   ]
  },
  {
   "cell_type": "code",
   "execution_count": null,
   "metadata": {},
   "outputs": [],
   "source": [
    "plt.contourf(np.flip(np.flip (J,axis=1)))\n",
    "plt.show()"
   ]
  },
  {
   "cell_type": "markdown",
   "metadata": {},
   "source": [
    "And on a 3D plot!"
   ]
  },
  {
   "cell_type": "code",
   "execution_count": null,
   "metadata": {},
   "outputs": [],
   "source": [
    "from mpl_toolkits.mplot3d import Axes3D\n",
    "\n",
    "xx,yy=np.meshgrid(np.linspace(0, 1, len(J[0])), np.linspace(0, 1, len(J)))\n",
    "fig = plt.figure(figsize=(30, 20))\n",
    "ax = plt.axes(projection = '3d')\n",
    "ax.contourf(xx,yy,J,levels=np.linspace(0,100,1000))\n",
    "plt.show()"
   ]
  },
  {
   "cell_type": "markdown",
   "metadata": {},
   "source": [
    "**Incorporating River Erosion**\n",
    "\n",
    "Now we are going to use river erosion to simulate a more wet environment, with significant water present. The first step is to find out where water is likely to flow if it lands on a given square. This is found by figuring out which direction is lowest. It then returns the coordinates of the next point downhill!"
   ]
  },
  {
   "cell_type": "code",
   "execution_count": null,
   "metadata": {},
   "outputs": [],
   "source": [
    "def whichdirectionislowest(J,coordinate_storage):\n",
    "    ###takes in location in array, and calculates coordinates of lowest neighbour\n",
    "    ###returns new coordinates\n",
    "    \n",
    "    #make sure J is an array\n",
    "    J=np.array(J)\n",
    "    \n",
    "    #calculate current height\n",
    "    currentheight=J[coordinate_storage[0],coordinate_storage[1]]\n",
    "    \n",
    "    #if we have a pixel on the edge of the simulation area, we can't calculate the lowest adjacent coordinates-\n",
    "    #they are out of our range! we therefore filter out these pixels.\n",
    "    if coordinate_storage[0]==0 or coordinate_storage[1]==0 or coordinate_storage[0]==len(J)-1 \\\n",
    "    or coordinate_storage[1]==len(J[0])-1:\n",
    "        pass\n",
    "    \n",
    "    #If it is not on the edge of the array, carry out this section of code:\n",
    "    else:\n",
    "        ##we are choosing the lowest number nearby by finding the minimum value in this list:\n",
    "        lowest=[]\n",
    "        \n",
    "        #this value will be in one of these three rows around the pixel:\n",
    "        row_1=J[coordinate_storage[0]-1]\n",
    "        row_2=J[coordinate_storage[0]]\n",
    "        row_3=J[coordinate_storage[0]+1]\n",
    "        \n",
    "        #specifically it will be in one of these 4 pixels adjacent to our pixel:\n",
    "        lowest.append(row_1[coordinate_storage[1]])\n",
    "        lowest.append(row_2[coordinate_storage[1]+1])\n",
    "        lowest.append(row_2[coordinate_storage[1]-1])\n",
    "        lowest.append(row_3[coordinate_storage[1]])\n",
    "        \n",
    "        #we now have our array of surrounding values.\n",
    "        #if our current value is lower than the surrounds, we won't have any river erosion.\n",
    "        if min(lowest)>currentheight:\n",
    "            pass\n",
    "        \n",
    "        ##now we figure out which direction is lowest:\n",
    "        elif lowest[0]==min(lowest):\n",
    "            coordinate_storage=[coordinate_storage[0]-1,coordinate_storage[1]]\n",
    "        elif lowest[1]==min(lowest):\n",
    "            coordinate_storage=[coordinate_storage[0],coordinate_storage[1]+1]\n",
    "        elif lowest[2]==min(lowest):\n",
    "            coordinate_storage=[coordinate_storage[0],coordinate_storage[1]-1]\n",
    "        elif lowest[3]==min(lowest):\n",
    "            coordinate_storage=[coordinate_storage[0]+1,coordinate_storage[1]]\n",
    "            \n",
    "    #return our next pixel:\n",
    "    return(coordinate_storage)\n"
   ]
  },
  {
   "cell_type": "markdown",
   "metadata": {},
   "source": [
    "We then trace the river as it flows downhill, and build an array of how strong erosion is at that part of the path. I have added some parameters to allow you to decide whether to apply steepness (if true, the river erodes faster when flowing down a steeper gradient)."
   ]
  },
  {
   "cell_type": "code",
   "execution_count": null,
   "metadata": {},
   "outputs": [],
   "source": [
    "def rivertracer1(J,coordinate_storage,steepness=True):\n",
    "    #traces the line of a river from coordinate in 2D array.\n",
    "    \n",
    "    ##define parameters and make sure J is an array\n",
    "    J=np.array(J)\n",
    "    accumulator=0\n",
    "    currentheight=J[coordinate_storage[0],coordinate_storage[1]]\n",
    "    \n",
    "    ##This initialises the array of river path\n",
    "    X1=np.zeros((len(J),len(J[0])))\n",
    "    X1=np.array(X1)\n",
    "    \n",
    "    multiplier=1##this parameter is used to multiply river erosion by the steepness of that part of the river bed\n",
    "    \n",
    "    while multiplier>0 and currentheight>0:###when current height=0, we assume the river has reached the water table\n",
    "        ###if multiplier=0, this means that newheight=currentheight for the previous iteration. The river stops flow.\n",
    "        ###find the coordinates of the next lowest location and the height of this coordinate\n",
    "        coordinate_storage2=whichdirectionislowest(J,coordinate_storage)\n",
    "        newheight=J[coordinate_storage2[0],coordinate_storage2[1]]\n",
    "        \n",
    "        ##we need the ''current height' parameter for if steepness is true\n",
    "        currentheight=J[coordinate_storage[0],coordinate_storage[1]]\n",
    "        \n",
    "        if steepness:\n",
    "            multiplier=currentheight-newheight #muliplier defined as the difference between the two adjacent pixels\n",
    "            \n",
    "            ##set the erosion value at these coordinates to multiplier+1. +1 added so there is at least some erosion at all\n",
    "            ##locations.\n",
    "            X1[coordinate_storage[0],coordinate_storage[1]]= (multiplier+1)\n",
    "        else:\n",
    "            X1[coordinate_storage[0],coordinate_storage[1]]= 1\n",
    "            \n",
    "        coordinate_storage=coordinate_storage2#redefine coordinate_storage\n",
    "        \n",
    "        \n",
    "    ##stops erosion at end of river path. Now that the while loop has ended, this resets the previous river erosion to zero\n",
    "    ##the river has stopped flowing so there will be no erosion at the end point\n",
    "    X1[coordinate_storage[0],coordinate_storage[1]]=0\n",
    "    \n",
    "    #return array containing path\n",
    "    return(X1)"
   ]
  },
  {
   "cell_type": "markdown",
   "metadata": {},
   "source": [
    "Now we are ready to define a river erosion function, where we find the path of EVERY water flow from Every coordinate and calculate the erosion. Rivers quickly become clear as areas of high erosion."
   ]
  },
  {
   "cell_type": "code",
   "execution_count": null,
   "metadata": {},
   "outputs": [],
   "source": [
    "def rivererosion(J,rivererosionrate):\n",
    "    ###returns a completed, RIVER eroded version of J with erosion rate. addition parameter means more erosion\n",
    "    ##'further down'; might not be needed, set to 0\n",
    "    J=np.array(J)\n",
    "    X=np.zeros((len(J),len(J[0])))\n",
    "    \n",
    "    ##Do rivertracer at every point and sum the arrays\n",
    "    for i in range(len(J)):\n",
    "        for j in range(len(J[i])):\n",
    "            XD=rivertracer1(J,[i,j])\n",
    "            X+=XD\n",
    "    \n",
    "    ##calculate new terrain height\n",
    "    D=J-X*rivererosionrate\n",
    "    \n",
    "    ##make sure terrain doesn't go more than 2 metres below water table- here deposition will be high enough to offset erosion\n",
    "    D=np.clip(D, -2, 10000)\n",
    "    return(D)"
   ]
  },
  {
   "cell_type": "markdown",
   "metadata": {},
   "source": [
    "Demonstration of the rivertracer function: steeper slope leads to stronger erosion if steepness=true"
   ]
  },
  {
   "cell_type": "code",
   "execution_count": null,
   "metadata": {},
   "outputs": [],
   "source": [
    "plt.imshow(rivertracer1(J,[int(np.round(len(J)/2)),int(np.round(len(J[0])/2))]))\n",
    "plt.show()\n",
    "plt.imshow(J)\n",
    "plt.show()"
   ]
  },
  {
   "cell_type": "markdown",
   "metadata": {
    "scrolled": true
   },
   "source": [
    "Now, the rivererosion function adds all of these effects together to produce this new map of terrain height."
   ]
  },
  {
   "cell_type": "code",
   "execution_count": null,
   "metadata": {},
   "outputs": [],
   "source": [
    "I=rivererosion(J,0.1)\n",
    "plt.imshow(I)"
   ]
  },
  {
   "cell_type": "markdown",
   "metadata": {},
   "source": [
    "**Bringing it all together: both smoothing and river erosion**\n",
    "\n",
    "Now we can add the two together. First, we need to make a seed. Here is just one seed I have tried:"
   ]
  },
  {
   "cell_type": "code",
   "execution_count": null,
   "metadata": {},
   "outputs": [],
   "source": [
    "##Seed creation\n",
    "\n",
    "#Random numbers\n",
    "J=np.random.randint (0,10000,(100,100))\n",
    "J=np.array(J)\n",
    "\n",
    "#Gradient\n",
    "for i in range(len(J)):\n",
    "    for j in range(len(J[0])):\n",
    "        J[i,j]=J[i,j]+i/10\n",
    "\n",
    "#Slices/ridges\n",
    "J[:,50]=10000\n",
    "J[50,:]=10000\n",
    "\n",
    "#Peak in center\n",
    "J[50,50]=100000\n",
    "\n",
    "plt.imshow(J)\n",
    "plt.show()"
   ]
  },
  {
   "cell_type": "markdown",
   "metadata": {},
   "source": [
    "I decided to smooth first and then use river erosion after, to give a good starting point for the river erosion."
   ]
  },
  {
   "cell_type": "code",
   "execution_count": null,
   "metadata": {},
   "outputs": [],
   "source": [
    "####INCORPORATION. smoothing followed by rivers\n",
    "\n",
    "##Smoothing: 40 iterations\n",
    "for i in tqdm(range(40)):\n",
    "    J=erosion_func(J,0.1)\n",
    "\n",
    "#Display\n",
    "plt.imshow(J)\n",
    "plt.show()\n",
    "\n",
    "##Smoothing and river erosion: 100 iterations\n",
    "for i in tqdm(range(100)):\n",
    "    J=erosion_func(J,0.2)\n",
    "    J=rivererosion(J,0.02)\n"
   ]
  },
  {
   "cell_type": "markdown",
   "metadata": {},
   "source": [
    "Let's see the results!"
   ]
  },
  {
   "cell_type": "code",
   "execution_count": null,
   "metadata": {},
   "outputs": [],
   "source": [
    "##Plot it!\n",
    "\n",
    "plt.imshow(J)\n",
    "plt.show()"
   ]
  },
  {
   "cell_type": "markdown",
   "metadata": {},
   "source": [
    "Finally, we can see the results in different formats."
   ]
  },
  {
   "cell_type": "code",
   "execution_count": null,
   "metadata": {},
   "outputs": [],
   "source": [
    "from mpl_toolkits.mplot3d import Axes3D\n",
    "\n",
    "xx,yy=np.meshgrid(np.linspace(0, 1, len(J[0])), np.linspace(0, 1, len(J)))\n",
    "fig = plt.figure(figsize=(30, 20))\n",
    "ax = plt.axes(projection = '3d')\n",
    "ax.contourf(xx,yy,np.flip(np.flip (J,axis=1)),levels=np.linspace(0,6000,1000))\n",
    "plt.show()"
   ]
  },
  {
   "cell_type": "code",
   "execution_count": null,
   "metadata": {},
   "outputs": [],
   "source": [
    "plt.contourf(np.flip(np.flip (J,axis=1)))\n",
    "plt.show()"
   ]
  },
  {
   "cell_type": "code",
   "execution_count": null,
   "metadata": {},
   "outputs": [],
   "source": []
  }
 ],
 "metadata": {
  "kernelspec": {
   "display_name": "Python 3 (ipykernel)",
   "language": "python",
   "name": "python3"
  },
  "language_info": {
   "codemirror_mode": {
    "name": "ipython",
    "version": 3
   },
   "file_extension": ".py",
   "mimetype": "text/x-python",
   "name": "python",
   "nbconvert_exporter": "python",
   "pygments_lexer": "ipython3",
   "version": "3.10.2"
  }
 },
 "nbformat": 4,
 "nbformat_minor": 2
}
